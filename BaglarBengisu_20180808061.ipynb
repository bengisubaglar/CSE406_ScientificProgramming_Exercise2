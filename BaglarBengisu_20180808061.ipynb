{
 "cells": [
  {
   "cell_type": "markdown",
   "id": "69b625ab",
   "metadata": {},
   "source": [
    "4 Lists"
   ]
  },
  {
   "cell_type": "markdown",
   "id": "3134765c",
   "metadata": {},
   "source": [
    "Exercise 4.1: Short questions"
   ]
  },
  {
   "cell_type": "markdown",
   "id": "28fb805d",
   "metadata": {},
   "source": [
    "(a) Write a function that prints the elements of a list"
   ]
  },
  {
   "cell_type": "code",
   "execution_count": 2,
   "id": "03843dd5",
   "metadata": {},
   "outputs": [
    {
     "name": "stdout",
     "output_type": "stream",
     "text": [
      "['a', 'b', 'c', 'd']\n"
     ]
    }
   ],
   "source": [
    "myList = [\"a\",\"b\",\"c\",\"d\"]\n",
    "print(myList)"
   ]
  },
  {
   "cell_type": "markdown",
   "id": "cfbdbbe5",
   "metadata": {},
   "source": [
    "(b) Write a function that prints the elements of a list in reverse"
   ]
  },
  {
   "cell_type": "code",
   "execution_count": 3,
   "id": "b05c22bb",
   "metadata": {},
   "outputs": [
    {
     "name": "stdout",
     "output_type": "stream",
     "text": [
      "['d', 'c', 'b', 'a']\n"
     ]
    }
   ],
   "source": [
    "myList.reverse()\n",
    "print(myList)"
   ]
  },
  {
   "cell_type": "markdown",
   "id": "6907475b",
   "metadata": {},
   "source": [
    "(c) Write your own implementation of the len function that returns the number of elements in a list.\n"
   ]
  },
  {
   "cell_type": "code",
   "execution_count": 10,
   "id": "fbb49854",
   "metadata": {},
   "outputs": [
    {
     "name": "stdout",
     "output_type": "stream",
     "text": [
      "4\n"
     ]
    }
   ],
   "source": [
    "def my_len(myList) :\n",
    "    count = 0 \n",
    "    for i in myList : \n",
    "        count += 1\n",
    "    return count\n",
    "\n",
    "print(my_len(myList))\n",
    "    "
   ]
  },
  {
   "cell_type": "markdown",
   "id": "98ee1017",
   "metadata": {},
   "source": [
    "Exercise 4.2: Copying lists"
   ]
  },
  {
   "cell_type": "markdown",
   "id": "6c063486",
   "metadata": {},
   "source": [
    "(a) Create a list a with some entries."
   ]
  },
  {
   "cell_type": "code",
   "execution_count": 2,
   "id": "a01add4a",
   "metadata": {},
   "outputs": [],
   "source": [
    "a = [\"cse\", \"406\",\"scientific\",\"programming\"]"
   ]
  },
  {
   "cell_type": "markdown",
   "id": "cb4949db",
   "metadata": {},
   "source": [
    "(b) Now set b = a"
   ]
  },
  {
   "cell_type": "code",
   "execution_count": 3,
   "id": "5aed0929",
   "metadata": {},
   "outputs": [],
   "source": [
    "b =  a"
   ]
  },
  {
   "cell_type": "markdown",
   "id": "fc7ef4ae",
   "metadata": {},
   "source": [
    "(c)"
   ]
  },
  {
   "cell_type": "code",
   "execution_count": 14,
   "id": "4f418d6c",
   "metadata": {},
   "outputs": [
    {
     "name": "stdout",
     "output_type": "stream",
     "text": [
      "['cse', 'cse406', 'scientific', 'programming']\n"
     ]
    }
   ],
   "source": [
    "b[1] = \"cse406\"\n",
    "print(a)"
   ]
  },
  {
   "cell_type": "markdown",
   "id": "1b2c0199",
   "metadata": {},
   "source": [
    "(d) What happened to a?"
   ]
  },
  {
   "cell_type": "markdown",
   "id": "9a725bcf",
   "metadata": {},
   "source": [
    "a[1] is changed to \"cse406\". "
   ]
  },
  {
   "cell_type": "markdown",
   "id": "7f4ece6b",
   "metadata": {},
   "source": [
    "(e) Now set c = a[:]"
   ]
  },
  {
   "cell_type": "code",
   "execution_count": 15,
   "id": "d58de368",
   "metadata": {},
   "outputs": [],
   "source": [
    "c = a[:]"
   ]
  },
  {
   "cell_type": "markdown",
   "id": "5c7c3fca",
   "metadata": {},
   "source": [
    "(f) Change c[2] "
   ]
  },
  {
   "cell_type": "code",
   "execution_count": 20,
   "id": "9396efbb",
   "metadata": {},
   "outputs": [
    {
     "name": "stdout",
     "output_type": "stream",
     "text": [
      "['cse', 'cse406', 'scientific', 'programming']\n"
     ]
    }
   ],
   "source": [
    "c[2] = \"sci\"\n",
    "print(a)"
   ]
  },
  {
   "cell_type": "markdown",
   "id": "c7d1d4cd",
   "metadata": {},
   "source": [
    "(g) What happened to a?"
   ]
  },
  {
   "cell_type": "markdown",
   "id": "7f83441c",
   "metadata": {},
   "source": [
    "No changes in list a because by using c = a[:] we only create a copy of list a.  "
   ]
  },
  {
   "cell_type": "markdown",
   "id": "9cada373",
   "metadata": {},
   "source": [
    "Now create a function set_first_elem_to_zero(l) that takes a list, sets its first entry to zero, and\n",
    "returns the list.\n",
    "What happens to the original list?"
   ]
  },
  {
   "cell_type": "code",
   "execution_count": 21,
   "id": "f4edb486",
   "metadata": {},
   "outputs": [
    {
     "name": "stdout",
     "output_type": "stream",
     "text": [
      "[0, 'cse406', 'scientific', 'programming']\n"
     ]
    }
   ],
   "source": [
    "def set_first_elem_to_zero(list):\n",
    "    list[0] = 0\n",
    "    return list\n",
    "print (set_first_elem_to_zero(a))"
   ]
  },
  {
   "cell_type": "markdown",
   "id": "0d73adab",
   "metadata": {},
   "source": [
    "first element of the original list 'a' is set to 0."
   ]
  },
  {
   "cell_type": "markdown",
   "id": "ba83ae98",
   "metadata": {},
   "source": [
    "Exercise 4.3: Lists of lists"
   ]
  },
  {
   "cell_type": "markdown",
   "id": "6f5aec9d",
   "metadata": {},
   "source": [
    "What is the difference between a and b:\n",
    "a = [[]] * 3\n",
    "b = [[] for _ in xrange(3)]"
   ]
  },
  {
   "cell_type": "markdown",
   "id": "d5a5e685",
   "metadata": {},
   "source": [
    "There is no difference in their outputs but b = [[] for _ in xrange(3)] takes more time than the first way."
   ]
  },
  {
   "cell_type": "markdown",
   "id": "b72c01f8",
   "metadata": {},
   "source": [
    "Exercise 4.4: Lists and functions"
   ]
  },
  {
   "cell_type": "code",
   "execution_count": 27,
   "id": "930b7739",
   "metadata": {},
   "outputs": [
    {
     "name": "stdout",
     "output_type": "stream",
     "text": [
      "[[], [], 0]\n"
     ]
    }
   ],
   "source": [
    "def func_1(list,index):\n",
    "    list[index] = 0\n",
    "    return list\n",
    "print(func_1(a,2))"
   ]
  },
  {
   "cell_type": "markdown",
   "id": "4dd47ff9",
   "metadata": {},
   "source": [
    "Exercise 4.5: Primes"
   ]
  },
  {
   "cell_type": "markdown",
   "id": "1c52a579",
   "metadata": {},
   "source": [
    "In Section 3 you wrote a function that prints all primes up to n, and a function that prints the first n\n",
    "primes. Update these functions such that they return lists instead.\n"
   ]
  },
  {
   "cell_type": "markdown",
   "id": "004f825e",
   "metadata": {},
   "source": []
  },
  {
   "cell_type": "code",
   "execution_count": 36,
   "id": "99ba8879",
   "metadata": {},
   "outputs": [
    {
     "name": "stdout",
     "output_type": "stream",
     "text": [
      "[2, 3, 5, 7, 11, 13]\n"
     ]
    }
   ],
   "source": [
    "\n",
    "def is_prime(n) :\n",
    "    if n == 2 :\n",
    "            return True\n",
    "    elif n == 3 :\n",
    "            return True\n",
    "    elif n== 1 : \n",
    "        return False\n",
    "    elif n == 4 :\n",
    "        return False\n",
    "    for i in range (2, n//2) :\n",
    "        if n % i == 0 :\n",
    "            return False\n",
    "            \n",
    "    else :\n",
    "            return True\n",
    "            \n",
    "            \n",
    "def my_func(n) :\n",
    "    list1 = []\n",
    "    i= 1\n",
    "    while i < n  :\n",
    "        if is_prime(i)== True :\n",
    "            list1.insert(i-1,i)\n",
    "        i += 1\n",
    "    print(list1)\n",
    "    \n",
    "my_func(14)    "
   ]
  },
  {
   "cell_type": "code",
   "execution_count": 40,
   "id": "ebce5d22",
   "metadata": {},
   "outputs": [
    {
     "name": "stdout",
     "output_type": "stream",
     "text": [
      "[2, 3, 5, 7, 11, 13, 17, 19, 23, 29]\n"
     ]
    }
   ],
   "source": [
    "def my_function(n) :\n",
    "    list2 =[]\n",
    "    x = 2\n",
    "    i = 0\n",
    "    while i < n :\n",
    "        if is_prime(x):\n",
    "            list2.insert(x-1,x)\n",
    "            i += 1\n",
    "        x += 1    \n",
    "    print(list2)    \n",
    "    \n",
    "my_function(10)      "
   ]
  },
  {
   "cell_type": "markdown",
   "id": "4b24ddff",
   "metadata": {},
   "source": [
    "Exercise 4.6: List comprehensions"
   ]
  },
  {
   "cell_type": "markdown",
   "id": "9f5d5d56",
   "metadata": {},
   "source": [
    "(a) Generate a list with elements [i,j]."
   ]
  },
  {
   "cell_type": "code",
   "execution_count": 53,
   "id": "3afe9e19",
   "metadata": {},
   "outputs": [
    {
     "name": "stdout",
     "output_type": "stream",
     "text": [
      "[[1, 1], [1, 2], [1, 3], [1, 4], [1, 5], [1, 6], [1, 7], [1, 8], [2, 1], [2, 2], [2, 3], [2, 4], [2, 5], [2, 6], [2, 7], [2, 8], [3, 1], [3, 2], [3, 3], [3, 4], [3, 5], [3, 6], [3, 7], [3, 8], [4, 1], [4, 2], [4, 3], [4, 4], [4, 5], [4, 6], [4, 7], [4, 8], [5, 1], [5, 2], [5, 3], [5, 4], [5, 5], [5, 6], [5, 7], [5, 8]]\n"
     ]
    }
   ],
   "source": [
    "import random\n",
    "i = random.randint(1,10)\n",
    "j = random.randint(1,10)\n",
    "l1 = [[x,y] for x in range(1,i+1) for y in range (1,j+1)]\n",
    "print(l1)"
   ]
  },
  {
   "cell_type": "markdown",
   "id": "4e5d339a",
   "metadata": {},
   "source": [
    "(b) Generate a list with elements [i,j] with i < j\n"
   ]
  },
  {
   "cell_type": "code",
   "execution_count": 54,
   "id": "729689ab",
   "metadata": {},
   "outputs": [
    {
     "name": "stdout",
     "output_type": "stream",
     "text": [
      "[[1, 2], [1, 3], [1, 4], [1, 5], [1, 6], [1, 7], [1, 8], [2, 3], [2, 4], [2, 5], [2, 6], [2, 7], [2, 8], [3, 4], [3, 5], [3, 6], [3, 7], [3, 8], [4, 5], [4, 6], [4, 7], [4, 8], [5, 6], [5, 7], [5, 8]]\n"
     ]
    }
   ],
   "source": [
    "l2 = [[x,y] for x in range (1,i+1) for y in range (1,j+1) if x < y ]\n",
    "print(l2)"
   ]
  },
  {
   "cell_type": "markdown",
   "id": "7a6f907f",
   "metadata": {},
   "source": [
    "(c) Generate a list with elements i + j with both i and j prime and i > j.\n"
   ]
  },
  {
   "cell_type": "code",
   "execution_count": 56,
   "id": "46082816",
   "metadata": {},
   "outputs": [
    {
     "name": "stdout",
     "output_type": "stream",
     "text": [
      "[[3, 2], [5, 2], [5, 3]]\n"
     ]
    }
   ],
   "source": [
    "l3 = [[x,y]  for x in range(1,i+1) for y in range (1,j+1) if is_prime(x) and is_prime(y) and x > y]\n",
    "print (l3)"
   ]
  },
  {
   "cell_type": "markdown",
   "id": "d79fb909",
   "metadata": {},
   "source": [
    "(d) Write a function that evaluates an arbitrary polynomial a0 + a1x + a2x\n",
    "2 + . . . + anx\n",
    "n using a list\n",
    "comprehension, where you are given x and a list with coefficients coefs"
   ]
  },
  {
   "cell_type": "code",
   "execution_count": 6,
   "id": "f4a8a68c",
   "metadata": {},
   "outputs": [
    {
     "name": "stdout",
     "output_type": "stream",
     "text": [
      "enter x :  2\n",
      "enter coeffs :2 3 4\n",
      "result =  24.0\n"
     ]
    }
   ],
   "source": [
    "def evaluate() :\n",
    "    x = float(input(\"enter x :  \"))\n",
    "    coefs = list(map(float,input(\"enter coeffs :\").split()))\n",
    "    l = [coefs[i]*x**i for i in range(len(coefs))]\n",
    "    print(\"result = \", sum(l))\n",
    "evaluate()"
   ]
  },
  {
   "cell_type": "markdown",
   "id": "006ffb0d",
   "metadata": {},
   "source": [
    "Exercise 4.7: Filter"
   ]
  },
  {
   "cell_type": "markdown",
   "id": "c55fc3a1",
   "metadata": {},
   "source": [
    "In lecture we have seen how to implement map using list comprehensions. Implement filter using list\n",
    "comprehensions. Name your functions myfilter so you can compare with Python’s standard filter."
   ]
  },
  {
   "cell_type": "code",
   "execution_count": 1,
   "id": "a82e5861",
   "metadata": {},
   "outputs": [
    {
     "name": "stdout",
     "output_type": "stream",
     "text": [
      "[3, 4, 5, 6, 7, 8]\n"
     ]
    }
   ],
   "source": [
    "list1 = [1,2,3,4,5,6]\n",
    "def myfilter(list) :\n",
    "  newlist = [ x+2 for x in list ]\n",
    "  print(newlist)\n",
    "    \n",
    "myfilter(list1)"
   ]
  },
  {
   "cell_type": "markdown",
   "id": "176ac84b",
   "metadata": {},
   "source": [
    "Exercise 4.8: Flatten a list of lists"
   ]
  },
  {
   "cell_type": "markdown",
   "id": "a979483a",
   "metadata": {},
   "source": [
    "Consider having a list with lists as elements, e.g. [[1,3], [3,6]].\n",
    "Write a function that takes such a list, and returns a list with as elements the elements of the sublists,\n",
    "e.g. [1, 3, 3, 6]."
   ]
  },
  {
   "cell_type": "code",
   "execution_count": 2,
   "id": "d6fd3d83",
   "metadata": {},
   "outputs": [
    {
     "name": "stdout",
     "output_type": "stream",
     "text": [
      "[1, 3, 3, 6]\n"
     ]
    }
   ],
   "source": [
    "list1 = [1,3]\n",
    "list2 = [3,6]\n",
    "list3 = list1 + list2\n",
    "print(list3)"
   ]
  },
  {
   "cell_type": "markdown",
   "id": "19319869",
   "metadata": {},
   "source": [
    "Exercise 4.9: Finding the longest word\n"
   ]
  },
  {
   "cell_type": "markdown",
   "id": "4234cad1",
   "metadata": {},
   "source": [
    "Write a function that returns the longest word in a variable text that contains a sentence. While text\n",
    "may contain punctuation, these should not be taken into account. What happens with ties?"
   ]
  },
  {
   "cell_type": "code",
   "execution_count": 23,
   "id": "6019efe5",
   "metadata": {},
   "outputs": [
    {
     "data": {
      "text/plain": [
       "'this'"
      ]
     },
     "execution_count": 23,
     "metadata": {},
     "output_type": "execute_result"
    }
   ],
   "source": [
    "from string import punctuation\n",
    "\n",
    "def longest_word(string) :\n",
    "    for punct in punctuation :\n",
    "        string = string.replace(punct,'')\n",
    "        \n",
    "    longest = max(string.split() ,key = len)\n",
    "    return longest\n",
    "            \n",
    "longest_word(\"Hi, this is a text.\")        "
   ]
  },
  {
   "cell_type": "markdown",
   "id": "4ee34080",
   "metadata": {},
   "source": [
    "If two words are tie, the function prints the word with smaller index."
   ]
  },
  {
   "cell_type": "markdown",
   "id": "628b41ea",
   "metadata": {},
   "source": [
    "Exercise 4.10: Collatz sequence, part 2\n"
   ]
  },
  {
   "cell_type": "markdown",
   "id": "45e1bb9a",
   "metadata": {},
   "source": [
    "Exercise 4.11: Pivots"
   ]
  },
  {
   "cell_type": "markdown",
   "id": "83743eb6",
   "metadata": {},
   "source": [
    "Write a function that takes a value x and a list ys, and returns a list that contains the value x and all\n",
    "elements of ys such that all values y in ys that are smaller than x come first, then we element x and\n",
    "then the rest of the values in ys\n",
    "For example, the output of f(3, [6, 4, 1, 7]) should be [1, 3, 6, 4, 7]"
   ]
  },
  {
   "cell_type": "code",
   "execution_count": null,
   "id": "235e15ac",
   "metadata": {},
   "outputs": [],
   "source": []
  },
  {
   "cell_type": "code",
   "execution_count": null,
   "id": "941160c4",
   "metadata": {},
   "outputs": [],
   "source": []
  },
  {
   "cell_type": "code",
   "execution_count": null,
   "id": "53ae86a3",
   "metadata": {},
   "outputs": [],
   "source": []
  },
  {
   "cell_type": "code",
   "execution_count": null,
   "id": "8768b372",
   "metadata": {},
   "outputs": [],
   "source": []
  },
  {
   "cell_type": "markdown",
   "id": "6a0ee34a",
   "metadata": {},
   "source": [
    "5 Tuples"
   ]
  },
  {
   "cell_type": "markdown",
   "id": "a31b153a",
   "metadata": {},
   "source": [
    "Exercise 5.1: Swapping two values"
   ]
  },
  {
   "cell_type": "markdown",
   "id": "f85da610",
   "metadata": {},
   "source": [
    "If we define a and b in a tuple we can swap them in a single line."
   ]
  },
  {
   "cell_type": "markdown",
   "id": "51866654",
   "metadata": {},
   "source": [
    "Exercise 5.2: Zip"
   ]
  },
  {
   "cell_type": "code",
   "execution_count": 7,
   "id": "6ad0c11a",
   "metadata": {},
   "outputs": [
    {
     "name": "stdout",
     "output_type": "stream",
     "text": [
      "[2, 3, 4, 6]\n",
      "[3, 4, 5, 8]\n",
      "((2, 3), (3, 4), (4, 5), (6, 8))\n"
     ]
    }
   ],
   "source": [
    "x = [2,3,4,6]\n",
    "y = [3,4,5,8]\n",
    "a = zip(x,y)\n",
    "print(x)\n",
    "print(y)\n",
    "print(tuple(a))\n"
   ]
  },
  {
   "cell_type": "code",
   "execution_count": 6,
   "id": "d3d0d848",
   "metadata": {},
   "outputs": [
    {
     "name": "stdout",
     "output_type": "stream",
     "text": [
      "[(2, 3, 4), (3, 4, 5)]\n"
     ]
    }
   ],
   "source": [
    "x = [2,3,4]\n",
    "y = [3,4,5]\n",
    "a = zip(x,y)\n",
    "b = list(zip(*a))\n",
    "print(b)"
   ]
  },
  {
   "cell_type": "markdown",
   "id": "375f1ce0",
   "metadata": {},
   "source": [
    "Exercise 5.3: Distances"
   ]
  },
  {
   "cell_type": "markdown",
   "id": "84165146",
   "metadata": {},
   "source": [
    "Suppose we have two vectors, x and y, stored as tuples with n elements. Implement functions that\n",
    "compute the l1 and l2 distances between x and y. Note that n is not explicitly given."
   ]
  },
  {
   "cell_type": "code",
   "execution_count": 2,
   "id": "9fec2221",
   "metadata": {},
   "outputs": [
    {
     "name": "stdout",
     "output_type": "stream",
     "text": [
      "enter x :1,2,3\n",
      "enter y :2,3,4\n",
      "(1, 2, 3)\n",
      "(2, 3, 4)\n",
      "1.7320508075688772\n"
     ]
    }
   ],
   "source": [
    "from math import dist\n",
    "x = input(\"enter x :\")\n",
    "y = input(\"enter y :\")\n",
    "x = tuple(int(i) for i in x.split(\",\"))\n",
    "y = tuple(int(i) for i in y.split(\",\"))\n",
    "print(dist(x,y))"
   ]
  },
  {
   "cell_type": "markdown",
   "id": "e28dcfca",
   "metadata": {},
   "source": [
    "6 Dictionaries"
   ]
  },
  {
   "cell_type": "markdown",
   "id": "7832eb56",
   "metadata": {},
   "source": [
    "Exercise 6.1: Printing a dictionary\n",
    "\n",
    "Write a function that prints key-value pairs of a dictionary"
   ]
  },
  {
   "cell_type": "code",
   "execution_count": 5,
   "id": "ebba4c4f",
   "metadata": {},
   "outputs": [
    {
     "name": "stdout",
     "output_type": "stream",
     "text": [
      "id   1\n",
      "name   bengisu\n",
      "surname   baglar\n"
     ]
    }
   ],
   "source": [
    "def print_dict(dictionary) :\n",
    "    for key,value in dictionary.items() :\n",
    "        print(key , \" \" , value)\n",
    "        \n",
    "dict_1 = {\"id\" : \"1\", \"name\" : \"bengisu\" , \"surname\" : \"baglar\"}\n",
    "print_dict(dict_1)"
   ]
  },
  {
   "cell_type": "markdown",
   "id": "83ae4935",
   "metadata": {},
   "source": [
    "Exercise 6.2: Histogram\n",
    "\n",
    "Write a function that takes a list, and returns a dictionary with keys the elements of the list and as\n",
    "value the number of occurances of that element in the list.\n",
    "\n",
    "After you are done, look up ‘python collections counter’ in Google. Could you use a counter instead?"
   ]
  },
  {
   "cell_type": "code",
   "execution_count": 16,
   "id": "c8d9ca70",
   "metadata": {},
   "outputs": [
    {
     "data": {
      "text/plain": [
       "{'a': 2, 'b': 1, 'c': 3}"
      ]
     },
     "execution_count": 16,
     "metadata": {},
     "output_type": "execute_result"
    }
   ],
   "source": [
    "def find_accurances(list_1,x) :\n",
    "    counter = 0\n",
    "    for item in list_1 :\n",
    "            if item == x :\n",
    "                counter += 1\n",
    "    return counter \n",
    "\n",
    "def make_dict(list_1) :\n",
    "    \n",
    "    for i in list_1 :\n",
    "        dict_2 = {i : find_accurances(list_1,i) for i in list_1 }\n",
    "        \n",
    "    return dict_2\n",
    "\n",
    "make_dict((\"a\",\"b\",\"a\",\"c\",\"c\",\"c\"))\n",
    "\n",
    "    \n",
    "        "
   ]
  },
  {
   "cell_type": "markdown",
   "id": "099bf3d6",
   "metadata": {},
   "source": [
    "After seeing count method, i think i would use it because it is much more easier than my methods."
   ]
  },
  {
   "cell_type": "markdown",
   "id": "2b6deff8",
   "metadata": {},
   "source": [
    "Exercise 6.3: Get method\n",
    "\n",
    "Dictionaries have a get method, which takes a key and a default value. If the key is in the dictionary,\n",
    "it returns the value, otherwise, it returns the default value.\n",
    "\n",
    "Rewrite your code from the previous problem to make use of this get method."
   ]
  },
  {
   "cell_type": "code",
   "execution_count": 25,
   "id": "51f893d0",
   "metadata": {},
   "outputs": [
    {
     "name": "stdout",
     "output_type": "stream",
     "text": [
      "2 1 2 3 3 3 "
     ]
    }
   ],
   "source": [
    "def use_get(list_1) :\n",
    "    for i in list_1 :\n",
    "        accurances = list_1.count(i)\n",
    "        dict_3 = {i : accurances} \n",
    "        print(dict_3.get(i) , end = \" \")\n",
    "        \n",
    "use_get((\"a\",\"b\",\"a\",\"c\",\"c\",\"c\"))"
   ]
  },
  {
   "cell_type": "markdown",
   "id": "e4885293",
   "metadata": {},
   "source": [
    "Exercise 6.4: Random text generator"
   ]
  },
  {
   "cell_type": "code",
   "execution_count": null,
   "id": "c01332c6",
   "metadata": {},
   "outputs": [],
   "source": []
  },
  {
   "cell_type": "code",
   "execution_count": null,
   "id": "b9b1a23e",
   "metadata": {},
   "outputs": [],
   "source": []
  },
  {
   "cell_type": "code",
   "execution_count": null,
   "id": "d7fbdaef",
   "metadata": {},
   "outputs": [],
   "source": []
  },
  {
   "cell_type": "markdown",
   "id": "f349f835",
   "metadata": {},
   "source": [
    "Exercise 6.5: Vector functions\n"
   ]
  },
  {
   "cell_type": "code",
   "execution_count": null,
   "id": "21fe7e86",
   "metadata": {},
   "outputs": [],
   "source": []
  }
 ],
 "metadata": {
  "kernelspec": {
   "display_name": "Python 3 (ipykernel)",
   "language": "python",
   "name": "python3"
  },
  "language_info": {
   "codemirror_mode": {
    "name": "ipython",
    "version": 3
   },
   "file_extension": ".py",
   "mimetype": "text/x-python",
   "name": "python",
   "nbconvert_exporter": "python",
   "pygments_lexer": "ipython3",
   "version": "3.9.7"
  }
 },
 "nbformat": 4,
 "nbformat_minor": 5
}
